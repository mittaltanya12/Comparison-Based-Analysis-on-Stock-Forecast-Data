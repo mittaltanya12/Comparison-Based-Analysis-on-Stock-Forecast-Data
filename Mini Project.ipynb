{
 "cells": [
  {
   "cell_type": "markdown",
   "metadata": {},
   "source": [
    "# Comparison Based Analysis on Stock Forecasting Dataset using Linear Regression and L1 Regression"
   ]
  },
  {
   "cell_type": "markdown",
   "metadata": {},
   "source": [
    "# Importing Libraries"
   ]
  },
  {
   "cell_type": "code",
   "execution_count": 22,
   "metadata": {},
   "outputs": [],
   "source": [
    "import pandas as pd\n",
    "import numpy as np\n",
    "import matplotlib.pyplot as plt\n",
    "from sklearn.model_selection import train_test_split\n",
    "from sklearn.linear_model import LinearRegression\n",
    "from sklearn.linear_model import Lasso\n",
    "from sklearn import metrics"
   ]
  },
  {
   "cell_type": "markdown",
   "metadata": {},
   "source": [
    "# Data"
   ]
  },
  {
   "cell_type": "code",
   "execution_count": 23,
   "metadata": {},
   "outputs": [],
   "source": [
    "df = pd.read_csv('UBER.csv')"
   ]
  },
  {
   "cell_type": "code",
   "execution_count": 24,
   "metadata": {},
   "outputs": [
    {
     "data": {
      "text/html": [
       "<div>\n",
       "<style scoped>\n",
       "    .dataframe tbody tr th:only-of-type {\n",
       "        vertical-align: middle;\n",
       "    }\n",
       "\n",
       "    .dataframe tbody tr th {\n",
       "        vertical-align: top;\n",
       "    }\n",
       "\n",
       "    .dataframe thead th {\n",
       "        text-align: right;\n",
       "    }\n",
       "</style>\n",
       "<table border=\"1\" class=\"dataframe\">\n",
       "  <thead>\n",
       "    <tr style=\"text-align: right;\">\n",
       "      <th></th>\n",
       "      <th>Date</th>\n",
       "      <th>High</th>\n",
       "      <th>Low</th>\n",
       "      <th>Open</th>\n",
       "      <th>Close</th>\n",
       "      <th>Volume</th>\n",
       "      <th>Adj Close</th>\n",
       "    </tr>\n",
       "  </thead>\n",
       "  <tbody>\n",
       "    <tr>\n",
       "      <th>0</th>\n",
       "      <td>10-05-2019</td>\n",
       "      <td>45.000000</td>\n",
       "      <td>41.060001</td>\n",
       "      <td>42.000000</td>\n",
       "      <td>41.570000</td>\n",
       "      <td>186322500</td>\n",
       "      <td>41.570000</td>\n",
       "    </tr>\n",
       "    <tr>\n",
       "      <th>1</th>\n",
       "      <td>13-05-2019</td>\n",
       "      <td>39.240002</td>\n",
       "      <td>36.080002</td>\n",
       "      <td>38.790001</td>\n",
       "      <td>37.099998</td>\n",
       "      <td>79442400</td>\n",
       "      <td>37.099998</td>\n",
       "    </tr>\n",
       "    <tr>\n",
       "      <th>2</th>\n",
       "      <td>14-05-2019</td>\n",
       "      <td>39.959999</td>\n",
       "      <td>36.849998</td>\n",
       "      <td>38.310001</td>\n",
       "      <td>39.959999</td>\n",
       "      <td>46661100</td>\n",
       "      <td>39.959999</td>\n",
       "    </tr>\n",
       "    <tr>\n",
       "      <th>3</th>\n",
       "      <td>15-05-2019</td>\n",
       "      <td>41.880001</td>\n",
       "      <td>38.950001</td>\n",
       "      <td>39.369999</td>\n",
       "      <td>41.290001</td>\n",
       "      <td>36086100</td>\n",
       "      <td>41.290001</td>\n",
       "    </tr>\n",
       "    <tr>\n",
       "      <th>4</th>\n",
       "      <td>16-05-2019</td>\n",
       "      <td>44.060001</td>\n",
       "      <td>41.250000</td>\n",
       "      <td>41.480000</td>\n",
       "      <td>43.000000</td>\n",
       "      <td>38115500</td>\n",
       "      <td>43.000000</td>\n",
       "    </tr>\n",
       "  </tbody>\n",
       "</table>\n",
       "</div>"
      ],
      "text/plain": [
       "         Date       High        Low       Open      Close     Volume  \\\n",
       "0  10-05-2019  45.000000  41.060001  42.000000  41.570000  186322500   \n",
       "1  13-05-2019  39.240002  36.080002  38.790001  37.099998   79442400   \n",
       "2  14-05-2019  39.959999  36.849998  38.310001  39.959999   46661100   \n",
       "3  15-05-2019  41.880001  38.950001  39.369999  41.290001   36086100   \n",
       "4  16-05-2019  44.060001  41.250000  41.480000  43.000000   38115500   \n",
       "\n",
       "   Adj Close  \n",
       "0  41.570000  \n",
       "1  37.099998  \n",
       "2  39.959999  \n",
       "3  41.290001  \n",
       "4  43.000000  "
      ]
     },
     "execution_count": 24,
     "metadata": {},
     "output_type": "execute_result"
    }
   ],
   "source": [
    "df.head()"
   ]
  },
  {
   "cell_type": "code",
   "execution_count": 25,
   "metadata": {},
   "outputs": [
    {
     "name": "stdout",
     "output_type": "stream",
     "text": [
      "<class 'pandas.core.frame.DataFrame'>\n",
      "RangeIndex: 389 entries, 0 to 388\n",
      "Data columns (total 7 columns):\n",
      " #   Column     Non-Null Count  Dtype  \n",
      "---  ------     --------------  -----  \n",
      " 0   Date       389 non-null    object \n",
      " 1   High       389 non-null    float64\n",
      " 2   Low        389 non-null    float64\n",
      " 3   Open       389 non-null    float64\n",
      " 4   Close      389 non-null    float64\n",
      " 5   Volume     389 non-null    int64  \n",
      " 6   Adj Close  389 non-null    float64\n",
      "dtypes: float64(5), int64(1), object(1)\n",
      "memory usage: 21.4+ KB\n"
     ]
    }
   ],
   "source": [
    "df.info()"
   ]
  },
  {
   "cell_type": "code",
   "execution_count": 26,
   "metadata": {},
   "outputs": [
    {
     "data": {
      "text/html": [
       "<div>\n",
       "<style scoped>\n",
       "    .dataframe tbody tr th:only-of-type {\n",
       "        vertical-align: middle;\n",
       "    }\n",
       "\n",
       "    .dataframe tbody tr th {\n",
       "        vertical-align: top;\n",
       "    }\n",
       "\n",
       "    .dataframe thead th {\n",
       "        text-align: right;\n",
       "    }\n",
       "</style>\n",
       "<table border=\"1\" class=\"dataframe\">\n",
       "  <thead>\n",
       "    <tr style=\"text-align: right;\">\n",
       "      <th></th>\n",
       "      <th>High</th>\n",
       "      <th>Low</th>\n",
       "      <th>Open</th>\n",
       "      <th>Close</th>\n",
       "      <th>Volume</th>\n",
       "      <th>Adj Close</th>\n",
       "    </tr>\n",
       "  </thead>\n",
       "  <tbody>\n",
       "    <tr>\n",
       "      <th>count</th>\n",
       "      <td>389.000000</td>\n",
       "      <td>389.000000</td>\n",
       "      <td>389.000000</td>\n",
       "      <td>389.000000</td>\n",
       "      <td>3.890000e+02</td>\n",
       "      <td>389.000000</td>\n",
       "    </tr>\n",
       "    <tr>\n",
       "      <th>mean</th>\n",
       "      <td>35.098609</td>\n",
       "      <td>33.603892</td>\n",
       "      <td>34.391476</td>\n",
       "      <td>34.375758</td>\n",
       "      <td>2.461581e+07</td>\n",
       "      <td>34.375758</td>\n",
       "    </tr>\n",
       "    <tr>\n",
       "      <th>std</th>\n",
       "      <td>5.801914</td>\n",
       "      <td>5.831753</td>\n",
       "      <td>5.807690</td>\n",
       "      <td>5.781304</td>\n",
       "      <td>1.963118e+07</td>\n",
       "      <td>5.781304</td>\n",
       "    </tr>\n",
       "    <tr>\n",
       "      <th>min</th>\n",
       "      <td>17.799999</td>\n",
       "      <td>13.710000</td>\n",
       "      <td>15.960000</td>\n",
       "      <td>14.820000</td>\n",
       "      <td>3.380000e+06</td>\n",
       "      <td>14.820000</td>\n",
       "    </tr>\n",
       "    <tr>\n",
       "      <th>25%</th>\n",
       "      <td>31.049999</td>\n",
       "      <td>29.850000</td>\n",
       "      <td>30.469999</td>\n",
       "      <td>30.450001</td>\n",
       "      <td>1.193540e+07</td>\n",
       "      <td>30.450001</td>\n",
       "    </tr>\n",
       "    <tr>\n",
       "      <th>50%</th>\n",
       "      <td>34.180000</td>\n",
       "      <td>32.680000</td>\n",
       "      <td>33.500000</td>\n",
       "      <td>33.410000</td>\n",
       "      <td>2.021700e+07</td>\n",
       "      <td>33.410000</td>\n",
       "    </tr>\n",
       "    <tr>\n",
       "      <th>75%</th>\n",
       "      <td>38.000000</td>\n",
       "      <td>36.799999</td>\n",
       "      <td>37.560001</td>\n",
       "      <td>37.209999</td>\n",
       "      <td>3.156990e+07</td>\n",
       "      <td>37.209999</td>\n",
       "    </tr>\n",
       "    <tr>\n",
       "      <th>max</th>\n",
       "      <td>50.750000</td>\n",
       "      <td>48.650002</td>\n",
       "      <td>49.980000</td>\n",
       "      <td>49.259998</td>\n",
       "      <td>1.863225e+08</td>\n",
       "      <td>49.259998</td>\n",
       "    </tr>\n",
       "  </tbody>\n",
       "</table>\n",
       "</div>"
      ],
      "text/plain": [
       "             High         Low        Open       Close        Volume  \\\n",
       "count  389.000000  389.000000  389.000000  389.000000  3.890000e+02   \n",
       "mean    35.098609   33.603892   34.391476   34.375758  2.461581e+07   \n",
       "std      5.801914    5.831753    5.807690    5.781304  1.963118e+07   \n",
       "min     17.799999   13.710000   15.960000   14.820000  3.380000e+06   \n",
       "25%     31.049999   29.850000   30.469999   30.450001  1.193540e+07   \n",
       "50%     34.180000   32.680000   33.500000   33.410000  2.021700e+07   \n",
       "75%     38.000000   36.799999   37.560001   37.209999  3.156990e+07   \n",
       "max     50.750000   48.650002   49.980000   49.259998  1.863225e+08   \n",
       "\n",
       "        Adj Close  \n",
       "count  389.000000  \n",
       "mean    34.375758  \n",
       "std      5.781304  \n",
       "min     14.820000  \n",
       "25%     30.450001  \n",
       "50%     33.410000  \n",
       "75%     37.209999  \n",
       "max     49.259998  "
      ]
     },
     "execution_count": 26,
     "metadata": {},
     "output_type": "execute_result"
    }
   ],
   "source": [
    "df.describe()"
   ]
  },
  {
   "cell_type": "code",
   "execution_count": 27,
   "metadata": {},
   "outputs": [],
   "source": [
    "x = df[['High', 'Low', 'Open', 'Volume']].values\n",
    "y = df['Close'].values"
   ]
  },
  {
   "cell_type": "markdown",
   "metadata": {},
   "source": [
    "# Linear Regression"
   ]
  },
  {
   "cell_type": "code",
   "execution_count": 28,
   "metadata": {},
   "outputs": [],
   "source": [
    "x_train, x_test, y_train, y_test = train_test_split(x,y, test_size=0.2, random_state=1)"
   ]
  },
  {
   "cell_type": "code",
   "execution_count": 29,
   "metadata": {},
   "outputs": [],
   "source": [
    "regressor = LinearRegression()"
   ]
  },
  {
   "cell_type": "code",
   "execution_count": 30,
   "metadata": {},
   "outputs": [
    {
     "data": {
      "text/plain": [
       "LinearRegression()"
      ]
     },
     "execution_count": 30,
     "metadata": {},
     "output_type": "execute_result"
    }
   ],
   "source": [
    "regressor.fit(x_train, y_train)"
   ]
  },
  {
   "cell_type": "code",
   "execution_count": 31,
   "metadata": {},
   "outputs": [
    {
     "name": "stdout",
     "output_type": "stream",
     "text": [
      "[ 7.80367914e-01  7.55745149e-01 -5.47794050e-01 -1.68430010e-09]\n"
     ]
    }
   ],
   "source": [
    "print(regressor.coef_)"
   ]
  },
  {
   "cell_type": "code",
   "execution_count": 32,
   "metadata": {},
   "outputs": [
    {
     "name": "stdout",
     "output_type": "stream",
     "text": [
      "0.46973103071069033\n"
     ]
    }
   ],
   "source": [
    "print(regressor.intercept_)"
   ]
  },
  {
   "cell_type": "code",
   "execution_count": 33,
   "metadata": {},
   "outputs": [],
   "source": [
    "predicted = regressor.predict(x_test)"
   ]
  },
  {
   "cell_type": "code",
   "execution_count": 34,
   "metadata": {},
   "outputs": [
    {
     "name": "stdout",
     "output_type": "stream",
     "text": [
      "[32.63531678 36.44405098 27.2353298  42.15377181 25.63780897 33.54313584\n",
      " 31.3339934  31.25471891 33.28628241 30.46361005 32.9827135  43.24053493\n",
      " 36.46356481 32.45568452 40.20431354 26.30516531 34.97885579 33.0991522\n",
      " 30.25676184 30.42174516 34.27831757 27.44025414 32.3917228  31.89361836\n",
      " 34.95424161 27.94267617 30.91474206 34.35977636 29.72952234 42.4110013\n",
      " 33.78357517 33.94975682 31.01498582 27.76444053 49.22840456 27.50556055\n",
      " 35.22504512 40.66244053 37.27455832 34.37531073 29.23819234 33.37837636\n",
      " 31.50139749 30.60563704 33.02526775 44.68838123 41.39261169 32.17020124\n",
      " 27.26532627 29.68125401 27.53312958 34.43460902 32.555765   31.16668069\n",
      " 36.69946064 40.90679338 31.28368847 44.95759639 26.80472914 32.08741604\n",
      " 28.24010196 27.41469037 20.54065981 29.70916656 34.3212797  43.96817761\n",
      " 33.25803624 31.19405777 28.94085257 32.89451865 43.82526089 32.17702909\n",
      " 39.83826129 32.44902777 34.82423126 30.73916987 36.52486205 40.55941305]\n"
     ]
    }
   ],
   "source": [
    "print(predicted)"
   ]
  },
  {
   "cell_type": "code",
   "execution_count": 35,
   "metadata": {},
   "outputs": [],
   "source": [
    "df2 = pd.DataFrame({'Actual': y_test.flatten(), 'Predicted' : predicted.flatten()})"
   ]
  },
  {
   "cell_type": "code",
   "execution_count": 36,
   "metadata": {},
   "outputs": [
    {
     "data": {
      "text/html": [
       "<div>\n",
       "<style scoped>\n",
       "    .dataframe tbody tr th:only-of-type {\n",
       "        vertical-align: middle;\n",
       "    }\n",
       "\n",
       "    .dataframe tbody tr th {\n",
       "        vertical-align: top;\n",
       "    }\n",
       "\n",
       "    .dataframe thead th {\n",
       "        text-align: right;\n",
       "    }\n",
       "</style>\n",
       "<table border=\"1\" class=\"dataframe\">\n",
       "  <thead>\n",
       "    <tr style=\"text-align: right;\">\n",
       "      <th></th>\n",
       "      <th>Actual</th>\n",
       "      <th>Predicted</th>\n",
       "    </tr>\n",
       "  </thead>\n",
       "  <tbody>\n",
       "    <tr>\n",
       "      <th>0</th>\n",
       "      <td>33.000000</td>\n",
       "      <td>32.635317</td>\n",
       "    </tr>\n",
       "    <tr>\n",
       "      <th>1</th>\n",
       "      <td>37.009998</td>\n",
       "      <td>36.444051</td>\n",
       "    </tr>\n",
       "    <tr>\n",
       "      <th>2</th>\n",
       "      <td>27.010000</td>\n",
       "      <td>27.235330</td>\n",
       "    </tr>\n",
       "    <tr>\n",
       "      <th>3</th>\n",
       "      <td>42.970001</td>\n",
       "      <td>42.153772</td>\n",
       "    </tr>\n",
       "    <tr>\n",
       "      <th>4</th>\n",
       "      <td>25.990000</td>\n",
       "      <td>25.637809</td>\n",
       "    </tr>\n",
       "    <tr>\n",
       "      <th>5</th>\n",
       "      <td>33.630001</td>\n",
       "      <td>33.543136</td>\n",
       "    </tr>\n",
       "    <tr>\n",
       "      <th>6</th>\n",
       "      <td>31.370001</td>\n",
       "      <td>31.333993</td>\n",
       "    </tr>\n",
       "    <tr>\n",
       "      <th>7</th>\n",
       "      <td>30.990000</td>\n",
       "      <td>31.254719</td>\n",
       "    </tr>\n",
       "    <tr>\n",
       "      <th>8</th>\n",
       "      <td>33.750000</td>\n",
       "      <td>33.286282</td>\n",
       "    </tr>\n",
       "    <tr>\n",
       "      <th>9</th>\n",
       "      <td>30.670000</td>\n",
       "      <td>30.463610</td>\n",
       "    </tr>\n",
       "    <tr>\n",
       "      <th>10</th>\n",
       "      <td>33.490002</td>\n",
       "      <td>32.982714</td>\n",
       "    </tr>\n",
       "    <tr>\n",
       "      <th>11</th>\n",
       "      <td>43.000000</td>\n",
       "      <td>43.240535</td>\n",
       "    </tr>\n",
       "    <tr>\n",
       "      <th>12</th>\n",
       "      <td>36.750000</td>\n",
       "      <td>36.463565</td>\n",
       "    </tr>\n",
       "    <tr>\n",
       "      <th>13</th>\n",
       "      <td>32.419998</td>\n",
       "      <td>32.455685</td>\n",
       "    </tr>\n",
       "    <tr>\n",
       "      <th>14</th>\n",
       "      <td>41.590000</td>\n",
       "      <td>40.204314</td>\n",
       "    </tr>\n",
       "    <tr>\n",
       "      <th>15</th>\n",
       "      <td>25.740000</td>\n",
       "      <td>26.305165</td>\n",
       "    </tr>\n",
       "    <tr>\n",
       "      <th>16</th>\n",
       "      <td>35.130001</td>\n",
       "      <td>34.978856</td>\n",
       "    </tr>\n",
       "    <tr>\n",
       "      <th>17</th>\n",
       "      <td>32.599998</td>\n",
       "      <td>33.099152</td>\n",
       "    </tr>\n",
       "    <tr>\n",
       "      <th>18</th>\n",
       "      <td>30.080000</td>\n",
       "      <td>30.256762</td>\n",
       "    </tr>\n",
       "    <tr>\n",
       "      <th>19</th>\n",
       "      <td>30.580000</td>\n",
       "      <td>30.421745</td>\n",
       "    </tr>\n",
       "    <tr>\n",
       "      <th>20</th>\n",
       "      <td>34.459999</td>\n",
       "      <td>34.278318</td>\n",
       "    </tr>\n",
       "    <tr>\n",
       "      <th>21</th>\n",
       "      <td>27.190001</td>\n",
       "      <td>27.440254</td>\n",
       "    </tr>\n",
       "    <tr>\n",
       "      <th>22</th>\n",
       "      <td>31.719999</td>\n",
       "      <td>32.391723</td>\n",
       "    </tr>\n",
       "    <tr>\n",
       "      <th>23</th>\n",
       "      <td>31.580000</td>\n",
       "      <td>31.893618</td>\n",
       "    </tr>\n",
       "    <tr>\n",
       "      <th>24</th>\n",
       "      <td>33.619999</td>\n",
       "      <td>34.954242</td>\n",
       "    </tr>\n",
       "  </tbody>\n",
       "</table>\n",
       "</div>"
      ],
      "text/plain": [
       "       Actual  Predicted\n",
       "0   33.000000  32.635317\n",
       "1   37.009998  36.444051\n",
       "2   27.010000  27.235330\n",
       "3   42.970001  42.153772\n",
       "4   25.990000  25.637809\n",
       "5   33.630001  33.543136\n",
       "6   31.370001  31.333993\n",
       "7   30.990000  31.254719\n",
       "8   33.750000  33.286282\n",
       "9   30.670000  30.463610\n",
       "10  33.490002  32.982714\n",
       "11  43.000000  43.240535\n",
       "12  36.750000  36.463565\n",
       "13  32.419998  32.455685\n",
       "14  41.590000  40.204314\n",
       "15  25.740000  26.305165\n",
       "16  35.130001  34.978856\n",
       "17  32.599998  33.099152\n",
       "18  30.080000  30.256762\n",
       "19  30.580000  30.421745\n",
       "20  34.459999  34.278318\n",
       "21  27.190001  27.440254\n",
       "22  31.719999  32.391723\n",
       "23  31.580000  31.893618\n",
       "24  33.619999  34.954242"
      ]
     },
     "execution_count": 36,
     "metadata": {},
     "output_type": "execute_result"
    }
   ],
   "source": [
    "df2.head(25)"
   ]
  },
  {
   "cell_type": "code",
   "execution_count": 37,
   "metadata": {},
   "outputs": [
    {
     "name": "stdout",
     "output_type": "stream",
     "text": [
      "Mean Absolute Error: 0.3337143608910061\n",
      "Mean Squared Error: 0.19783448106055498\n",
      "Root Mean Squared Error: 0.44478588226308957\n"
     ]
    }
   ],
   "source": [
    "import math\n",
    "print('Mean Absolute Error:', metrics.mean_absolute_error(y_test,predicted))\n",
    "print('Mean Squared Error:', metrics.mean_squared_error(y_test,predicted))\n",
    "print('Root Mean Squared Error:', math.sqrt(metrics.mean_squared_error(y_test,predicted)))"
   ]
  },
  {
   "cell_type": "markdown",
   "metadata": {},
   "source": [
    "# Data Visualisation of Linear Regression"
   ]
  },
  {
   "cell_type": "code",
   "execution_count": 38,
   "metadata": {},
   "outputs": [],
   "source": [
    "graph = df2.head(20)"
   ]
  },
  {
   "cell_type": "code",
   "execution_count": 39,
   "metadata": {},
   "outputs": [
    {
     "data": {
      "text/plain": [
       "<matplotlib.axes._subplots.AxesSubplot at 0x2226332fac0>"
      ]
     },
     "execution_count": 39,
     "metadata": {},
     "output_type": "execute_result"
    },
    {
     "data": {
      "image/png": "[encoded data removed]",
      "text/plain": [
       "<Figure size 432x288 with 1 Axes>"
      ]
     },
     "metadata": {
      "needs_background": "light"
     },
     "output_type": "display_data"
    }
   ],
   "source": [
    "graph.plot(kind='line')"
   ]
  },
  {
   "cell_type": "markdown",
   "metadata": {},
   "source": [
    "# Accuracy of Linear Regression"
   ]
  },
  {
   "cell_type": "code",
   "execution_count": 40,
   "metadata": {},
   "outputs": [
    {
     "name": "stdout",
     "output_type": "stream",
     "text": [
      "Accuracy is: 99.29 %\n"
     ]
    }
   ],
   "source": [
    "accuracy=regressor.score(x_test,y_test)\n",
    "accuracy=accuracy*100\n",
    "accuracy = float(\"{0:.2f}\".format(accuracy))\n",
    "print('Accuracy is:',accuracy,'%')"
   ]
  },
  {
   "cell_type": "markdown",
   "metadata": {},
   "source": [
    "# L1 Regression"
   ]
  },
  {
   "cell_type": "code",
   "execution_count": 41,
   "metadata": {},
   "outputs": [],
   "source": [
    "lasso = Lasso()"
   ]
  },
  {
   "cell_type": "code",
   "execution_count": 43,
   "metadata": {},
   "outputs": [
    {
     "data": {
      "text/plain": [
       "Lasso()"
      ]
     },
     "execution_count": 43,
     "metadata": {},
     "output_type": "execute_result"
    }
   ],
   "source": [
    "lasso.fit(x_train,y_train)"
   ]
  },
  {
   "cell_type": "code",
   "execution_count": 44,
   "metadata": {},
   "outputs": [
    {
     "name": "stdout",
     "output_type": "stream",
     "text": [
      "[ 5.16185595e-01  4.46105583e-01  0.00000000e+00 -1.66478946e-09]\n"
     ]
    }
   ],
   "source": [
    "print(lasso.coef_)"
   ]
  },
  {
   "cell_type": "code",
   "execution_count": 45,
   "metadata": {},
   "outputs": [
    {
     "name": "stdout",
     "output_type": "stream",
     "text": [
      "1.3128775940032966\n"
     ]
    }
   ],
   "source": [
    "print(lasso.intercept_)"
   ]
  },
  {
   "cell_type": "code",
   "execution_count": 47,
   "metadata": {},
   "outputs": [],
   "source": [
    "predicte=lasso.predict(x_test)"
   ]
  },
  {
   "cell_type": "code",
   "execution_count": 48,
   "metadata": {},
   "outputs": [
    {
     "name": "stdout",
     "output_type": "stream",
     "text": [
      "[32.64513085 36.61149683 27.50206802 41.86141825 25.39771072 33.58089125\n",
      " 31.31410522 31.3251379  33.06653319 30.56582386 33.38255427 42.39441666\n",
      " 36.40590947 32.48304131 40.38217029 27.13789276 34.93725935 33.45376114\n",
      " 30.10691367 30.39479597 33.91411266 27.67500145 32.74777764 31.65576021\n",
      " 34.53340275 28.15987349 31.04679515 34.28796572 29.4591683  42.03565858\n",
      " 33.91556314 34.24493998 30.84840666 28.27788073 48.62702634 27.42498204\n",
      " 35.55080892 40.56490529 37.75236969 34.3676547  29.19090438 33.81079974\n",
      " 32.01384102 30.77387172 33.46585029 43.79377012 41.1957069  32.19153319\n",
      " 27.19551306 29.96357414 27.57471053 34.62169578 33.12829805 31.16183068\n",
      " 36.73090736 40.97902689 31.40593322 44.65461455 26.72714082 31.76175796\n",
      " 28.42527329 27.42154126 20.8315729  29.63807088 34.43210034 43.85412582\n",
      " 33.35585507 31.37232183 29.29971633 32.73618496 43.28208085 32.54797909\n",
      " 39.73358618 32.69629483 34.56898937 30.56985725 36.92615368 40.37708175]\n"
     ]
    }
   ],
   "source": [
    "print(predicte)"
   ]
  },
  {
   "cell_type": "code",
   "execution_count": 49,
   "metadata": {},
   "outputs": [],
   "source": [
    "df3 = pd.DataFrame({'Actual': y_test.flatten(), 'Predict' : predicte.flatten()})"
   ]
  },
  {
   "cell_type": "code",
   "execution_count": 50,
   "metadata": {},
   "outputs": [
    {
     "data": {
      "text/html": [
       "<div>\n",
       "<style scoped>\n",
       "    .dataframe tbody tr th:only-of-type {\n",
       "        vertical-align: middle;\n",
       "    }\n",
       "\n",
       "    .dataframe tbody tr th {\n",
       "        vertical-align: top;\n",
       "    }\n",
       "\n",
       "    .dataframe thead th {\n",
       "        text-align: right;\n",
       "    }\n",
       "</style>\n",
       "<table border=\"1\" class=\"dataframe\">\n",
       "  <thead>\n",
       "    <tr style=\"text-align: right;\">\n",
       "      <th></th>\n",
       "      <th>Actual</th>\n",
       "      <th>Predict</th>\n",
       "    </tr>\n",
       "  </thead>\n",
       "  <tbody>\n",
       "    <tr>\n",
       "      <th>0</th>\n",
       "      <td>33.000000</td>\n",
       "      <td>32.645131</td>\n",
       "    </tr>\n",
       "    <tr>\n",
       "      <th>1</th>\n",
       "      <td>37.009998</td>\n",
       "      <td>36.611497</td>\n",
       "    </tr>\n",
       "    <tr>\n",
       "      <th>2</th>\n",
       "      <td>27.010000</td>\n",
       "      <td>27.502068</td>\n",
       "    </tr>\n",
       "    <tr>\n",
       "      <th>3</th>\n",
       "      <td>42.970001</td>\n",
       "      <td>41.861418</td>\n",
       "    </tr>\n",
       "    <tr>\n",
       "      <th>4</th>\n",
       "      <td>25.990000</td>\n",
       "      <td>25.397711</td>\n",
       "    </tr>\n",
       "    <tr>\n",
       "      <th>5</th>\n",
       "      <td>33.630001</td>\n",
       "      <td>33.580891</td>\n",
       "    </tr>\n",
       "    <tr>\n",
       "      <th>6</th>\n",
       "      <td>31.370001</td>\n",
       "      <td>31.314105</td>\n",
       "    </tr>\n",
       "    <tr>\n",
       "      <th>7</th>\n",
       "      <td>30.990000</td>\n",
       "      <td>31.325138</td>\n",
       "    </tr>\n",
       "    <tr>\n",
       "      <th>8</th>\n",
       "      <td>33.750000</td>\n",
       "      <td>33.066533</td>\n",
       "    </tr>\n",
       "    <tr>\n",
       "      <th>9</th>\n",
       "      <td>30.670000</td>\n",
       "      <td>30.565824</td>\n",
       "    </tr>\n",
       "    <tr>\n",
       "      <th>10</th>\n",
       "      <td>33.490002</td>\n",
       "      <td>33.382554</td>\n",
       "    </tr>\n",
       "    <tr>\n",
       "      <th>11</th>\n",
       "      <td>43.000000</td>\n",
       "      <td>42.394417</td>\n",
       "    </tr>\n",
       "    <tr>\n",
       "      <th>12</th>\n",
       "      <td>36.750000</td>\n",
       "      <td>36.405909</td>\n",
       "    </tr>\n",
       "    <tr>\n",
       "      <th>13</th>\n",
       "      <td>32.419998</td>\n",
       "      <td>32.483041</td>\n",
       "    </tr>\n",
       "    <tr>\n",
       "      <th>14</th>\n",
       "      <td>41.590000</td>\n",
       "      <td>40.382170</td>\n",
       "    </tr>\n",
       "    <tr>\n",
       "      <th>15</th>\n",
       "      <td>25.740000</td>\n",
       "      <td>27.137893</td>\n",
       "    </tr>\n",
       "    <tr>\n",
       "      <th>16</th>\n",
       "      <td>35.130001</td>\n",
       "      <td>34.937259</td>\n",
       "    </tr>\n",
       "    <tr>\n",
       "      <th>17</th>\n",
       "      <td>32.599998</td>\n",
       "      <td>33.453761</td>\n",
       "    </tr>\n",
       "    <tr>\n",
       "      <th>18</th>\n",
       "      <td>30.080000</td>\n",
       "      <td>30.106914</td>\n",
       "    </tr>\n",
       "    <tr>\n",
       "      <th>19</th>\n",
       "      <td>30.580000</td>\n",
       "      <td>30.394796</td>\n",
       "    </tr>\n",
       "    <tr>\n",
       "      <th>20</th>\n",
       "      <td>34.459999</td>\n",
       "      <td>33.914113</td>\n",
       "    </tr>\n",
       "    <tr>\n",
       "      <th>21</th>\n",
       "      <td>27.190001</td>\n",
       "      <td>27.675001</td>\n",
       "    </tr>\n",
       "    <tr>\n",
       "      <th>22</th>\n",
       "      <td>31.719999</td>\n",
       "      <td>32.747778</td>\n",
       "    </tr>\n",
       "    <tr>\n",
       "      <th>23</th>\n",
       "      <td>31.580000</td>\n",
       "      <td>31.655760</td>\n",
       "    </tr>\n",
       "    <tr>\n",
       "      <th>24</th>\n",
       "      <td>33.619999</td>\n",
       "      <td>34.533403</td>\n",
       "    </tr>\n",
       "  </tbody>\n",
       "</table>\n",
       "</div>"
      ],
      "text/plain": [
       "       Actual    Predict\n",
       "0   33.000000  32.645131\n",
       "1   37.009998  36.611497\n",
       "2   27.010000  27.502068\n",
       "3   42.970001  41.861418\n",
       "4   25.990000  25.397711\n",
       "5   33.630001  33.580891\n",
       "6   31.370001  31.314105\n",
       "7   30.990000  31.325138\n",
       "8   33.750000  33.066533\n",
       "9   30.670000  30.565824\n",
       "10  33.490002  33.382554\n",
       "11  43.000000  42.394417\n",
       "12  36.750000  36.405909\n",
       "13  32.419998  32.483041\n",
       "14  41.590000  40.382170\n",
       "15  25.740000  27.137893\n",
       "16  35.130001  34.937259\n",
       "17  32.599998  33.453761\n",
       "18  30.080000  30.106914\n",
       "19  30.580000  30.394796\n",
       "20  34.459999  33.914113\n",
       "21  27.190001  27.675001\n",
       "22  31.719999  32.747778\n",
       "23  31.580000  31.655760\n",
       "24  33.619999  34.533403"
      ]
     },
     "execution_count": 50,
     "metadata": {},
     "output_type": "execute_result"
    }
   ],
   "source": [
    "df3.head(25)"
   ]
  },
  {
   "cell_type": "code",
   "execution_count": 51,
   "metadata": {},
   "outputs": [
    {
     "name": "stdout",
     "output_type": "stream",
     "text": [
      "Mean Absolute Error: 0.39490608021217116\n",
      "Mean Squared Error: 0.2710777665439936\n",
      "Root Mean Squared Error: 0.5206512907349732\n"
     ]
    }
   ],
   "source": [
    "import math\n",
    "print('Mean Absolute Error:', metrics.mean_absolute_error(y_test,predicte))\n",
    "print('Mean Squared Error:', metrics.mean_squared_error(y_test,predicte))\n",
    "print('Root Mean Squared Error:', math.sqrt(metrics.mean_squared_error(y_test,predicte)))"
   ]
  },
  {
   "cell_type": "markdown",
   "metadata": {},
   "source": [
    "# Data Visualisation of L1 Regression"
   ]
  },
  {
   "cell_type": "code",
   "execution_count": 52,
   "metadata": {},
   "outputs": [],
   "source": [
    "graph=df3.head(20)"
   ]
  },
  {
   "cell_type": "code",
   "execution_count": 55,
   "metadata": {},
   "outputs": [
    {
     "data": {
      "text/plain": [
       "<matplotlib.axes._subplots.AxesSubplot at 0x222633b43a0>"
      ]
     },
     "execution_count": 55,
     "metadata": {},
     "output_type": "execute_result"
    },
    {
     "data": {
      "image/png": "[encoded data removed]",
      "text/plain": [
       "<Figure size 432x288 with 1 Axes>"
      ]
     },
     "metadata": {
      "needs_background": "light"
     },
     "output_type": "display_data"
    }
   ],
   "source": [
    "graph.plot(kind='line')"
   ]
  },
  {
   "cell_type": "markdown",
   "metadata": {},
   "source": [
    "# Accuracy of L1 Regression"
   ]
  },
  {
   "cell_type": "code",
   "execution_count": 54,
   "metadata": {},
   "outputs": [
    {
     "name": "stdout",
     "output_type": "stream",
     "text": [
      "Accuracy is: 99.03 %\n"
     ]
    }
   ],
   "source": [
    "accuracy=lasso.score(x_test,y_test)\n",
    "accuracy=accuracy*100\n",
    "accuracy = float(\"{0:.2f}\".format(accuracy))\n",
    "print('Accuracy is:',accuracy,'%')"
   ]
  },
  {
   "cell_type": "code",
   "execution_count": null,
   "metadata": {},
   "outputs": [],
   "source": []
  }
 ],
 "metadata": {
  "kernelspec": {
   "display_name": "Python 3",
   "language": "python",
   "name": "python3"
  },
  "language_info": {
   "codemirror_mode": {
    "name": "ipython",
    "version": 3
   },
   "file_extension": ".py",
   "mimetype": "text/x-python",
   "name": "python",
   "nbconvert_exporter": "python",
   "pygments_lexer": "ipython3",
   "version": "3.8.3"
  }
 },
 "nbformat": 4,
 "nbformat_minor": 4
}
